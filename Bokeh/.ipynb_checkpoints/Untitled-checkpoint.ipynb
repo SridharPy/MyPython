{
 "cells": [
  {
   "cell_type": "code",
   "execution_count": 2,
   "metadata": {},
   "outputs": [],
   "source": [
    "from bkcharts import Scatter, output_file, show\n",
    "import pandas\n",
    "\n",
    "df = pandas.DataFrame(columns=[\"X\",\"Y\"])\n",
    "df[\"X\"]=[1,3,5,7,9]\n",
    "df[\"Y\"]=[2,4,6,8,0]\n",
    "\n",
    "p = Scatter(df, x=\"X\",y=\"Y\", title=\"Scatter Test\", xlabel=\"Odd Numbers\", ylabel=\"Even Numbers\")\n",
    "\n",
    "output_file(\"Scatter_Example.html\") #Scatter interface will be output to html file in current directory\n",
    "\n",
    "show(p) #show the scatter chart in the html file\n"
   ]
  },
  {
   "cell_type": "code",
   "execution_count": 24,
   "metadata": {},
   "outputs": [],
   "source": [
    "from bokeh.plotting import figure, output_file, show\n",
    "import pandas\n",
    "\n",
    "#p = figure(plot_width=500, plot_height=400, title=\"Plotting Example\") or add title using below command\n",
    "p = figure(plot_width=500, plot_height=400)\n",
    "\n",
    "p.title.text=\"Plotting Example\"\n",
    "p.title.text_color=\"Orange\"\n",
    "p.title.text_font =\"Times\"\n",
    "p.title.text_font_style=\"italic\"\n",
    "\n",
    "p.yaxis.minor_tick_line_color=None\n",
    "p.xaxis.minor_tick_line_color=\"Red\"\n",
    "\n",
    "p.xaxis.axis_label=\"Odd Numbers\"\n",
    "p.yaxis.axis_label=\"Even Numbers\"\n",
    "#to get all attributes of figure type help(p)\n",
    "\n",
    "#p.circle([1,3,5,7,9],[2,4,6,8,10],size =10, alpha=0.4)\n",
    "p.circle([1,3,5,7,9],[2,4,6,8,10],size =[i*2 for i in [5,6,7,8,9]], alpha=0.4)\n",
    "\n",
    "output_file(\"plotting_example.html\")\n",
    "show(p)"
   ]
  }
 ],
 "metadata": {
  "kernelspec": {
   "display_name": "Python 3",
   "language": "python",
   "name": "python3"
  },
  "language_info": {
   "codemirror_mode": {
    "name": "ipython",
    "version": 3
   },
   "file_extension": ".py",
   "mimetype": "text/x-python",
   "name": "python",
   "nbconvert_exporter": "python",
   "pygments_lexer": "ipython3",
   "version": "3.6.3"
  }
 },
 "nbformat": 4,
 "nbformat_minor": 2
}
